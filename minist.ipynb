{
 "cells": [
  {
   "cell_type": "code",
   "execution_count": 18,
   "metadata": {},
   "outputs": [],
   "source": [
    "import torch\n",
    "from torch import nn, optim\n",
    "from torchvision import datasets, transforms, models\n",
    "from torch.utils.data import DataLoader, random_split\n",
    "\n",
    "from matplotlib import pyplot as plt\n",
    "from PIL import Image\n"
   ]
  },
  {
   "cell_type": "code",
   "execution_count": 19,
   "metadata": {},
   "outputs": [],
   "source": [
    "device = torch.device('cuda' if torch.cuda.is_available() else 'cpu')\n",
    "\n",
    "# 定义数据预处理转换，包括数据增强操作\n",
    "transform = transforms.Compose([\n",
    "    transforms.RandomRotation(degrees=15),  # 随机旋转\n",
    "    transforms.RandomAffine(degrees=0, translate=(0.1, 0.1)),  # 随机平移\n",
    "    transforms.ColorJitter(brightness=0.2, contrast=0.2, saturation=0.2, hue=0.1),  # 随机颜色变换\n",
    "    # transforms.RandomHorizontalFlip(),  # 随机水平翻转\n",
    "    transforms.ToTensor(),\n",
    "])\n",
    "\n",
    "dataset = datasets.MNIST(root='./data', train=True, transform=transform, download=True)\n",
    "\n",
    "# 定义训练集和测试集的比例\n",
    "train_ration = 0.8\n",
    "test_ration = 1 - train_ration\n",
    "\n",
    "# 计算训练集和测试集的数量\n",
    "train_size = int(train_ration * len(dataset))\n",
    "test_size = len(dataset) - train_size\n",
    "\n",
    "# 按照计算的数量随机划分训练集和测试集\n",
    "train_dataset, test_dataset = random_split(dataset, [train_size, test_size])\n"
   ]
  },
  {
   "cell_type": "code",
   "execution_count": 20,
   "metadata": {},
   "outputs": [
    {
     "name": "stdout",
     "output_type": "stream",
     "text": [
      "0 torch.Size([64, 1, 28, 28]) torch.Size([64])\n"
     ]
    },
    {
     "data": {
      "image/png": "[encoded data removed]",
      "text/plain": [
       "<Figure size 640x480 with 1 Axes>"
      ]
     },
     "metadata": {},
     "output_type": "display_data"
    }
   ],
   "source": [
    "# 加载数据并查看数据\n",
    "# from einops import rearrange\n",
    "\n",
    "BATCH_SIZE = 64\n",
    "train_loader = DataLoader(dataset=train_dataset, batch_size=BATCH_SIZE, shuffle=True)\n",
    "test_loader = DataLoader(dataset=test_dataset, batch_size=BATCH_SIZE, shuffle=False)\n",
    "\n",
    "for i, (images, labels) in enumerate(train_loader):\n",
    "    print(i, images.shape, labels.shape)\n",
    "    plt.imshow(images[0][0], cmap='gray')\n",
    "    plt.title(labels[0].item())\n",
    "    break\n"
   ]
  },
  {
   "cell_type": "code",
   "execution_count": 21,
   "metadata": {},
   "outputs": [],
   "source": [
    "class CNN(nn.Module):\n",
    "    def __init__(self):\n",
    "        super(CNN, self).__init__()\n",
    "        # 卷积层提取图片特征\n",
    "        self.conv1 = nn.Sequential(\n",
    "            nn.Conv2d(1, 16, 3, 1, 1),\n",
    "            nn.ReLU()\n",
    "        )\n",
    "        self.conv2 = nn.Sequential(\n",
    "            nn.Conv2d(16, 16, 3, 1, 1),\n",
    "            nn.ReLU()\n",
    "        )\n",
    "        \n",
    "        # 添加更多的卷积层\n",
    "        self.conv3 = nn.Sequential(\n",
    "            nn.Conv2d(16, 32, 3, 1, 1),\n",
    "            nn.ReLU()\n",
    "        )\n",
    "        self.conv4 = nn.Sequential(\n",
    "            nn.Conv2d(32, 32, 3, 1, 1),\n",
    "            nn.ReLU()\n",
    "        )\n",
    "\n",
    "        # 添加池化层\n",
    "        # self.pool = nn.MaxPool2d(2, 2)\n",
    "        \n",
    "        self.fc_input_size = 32 * 28 * 28\n",
    "\n",
    "        self.fc1 = nn.Sequential(nn.Linear(self.fc_input_size, 256), nn.Dropout(0.2), nn.ReLU())\n",
    "        self.fc2 = nn.Sequential(nn.Linear(256, 128), nn.Dropout(0.2), nn.ReLU())\n",
    "        self.fc3 = nn.Sequential(nn.Linear(128, 10), nn.Softmax(dim=1))\n",
    "\n",
    "    def forward(self, x):\n",
    "        x = self.conv1(x)\n",
    "        # x = self.pool(x)\n",
    "        x = self.conv2(x)\n",
    "        # x = self.pool(x)\n",
    "        x = self.conv3(x)\n",
    "        # x = self.pool(x)\n",
    "        x = self.conv4(x)\n",
    "        # x = self.pool(x)\n",
    "\n",
    "        x = x.view(x.shape[0], -1)\n",
    "\n",
    "        x = self.fc1(x)\n",
    "        x = self.fc2(x)\n",
    "        x = self.fc3(x)\n",
    "\n",
    "        return x\n"
   ]
  },
  {
   "cell_type": "code",
   "execution_count": 22,
   "metadata": {},
   "outputs": [],
   "source": [
    "# 定义损失函数和优化器\n",
    "model = CNN()\n",
    "model = model.to(device)\n",
    "criterion = nn.CrossEntropyLoss()\n",
    "lr=0.001 # 学习率\n",
    "optimizer = optim.Adam(model.parameters(), lr)"
   ]
  },
  {
   "cell_type": "code",
   "execution_count": null,
   "metadata": {},
   "outputs": [],
   "source": [
    "# 创建保存模型的目录\n",
    "import os\n",
    "\n",
    "save_path = './results/'\n",
    "if not os.path.exists(save_path):\n",
    "    os.makedirs(save_path)\n"
   ]
  },
  {
   "cell_type": "code",
   "execution_count": 51,
   "metadata": {},
   "outputs": [
    {
     "name": "stdout",
     "output_type": "stream",
     "text": [
      "Before training: "
     ]
    },
    {
     "name": "stderr",
     "output_type": "stream",
     "text": [
      "Testing: 100%|██████████| 188/188 [00:03<00:00, 47.01batch/s]"
     ]
    },
    {
     "name": "stdout",
     "output_type": "stream",
     "text": [
      "Accuracy on test set: 0.946\n"
     ]
    },
    {
     "name": "stderr",
     "output_type": "stream",
     "text": [
      "\n"
     ]
    }
   ],
   "source": [
    "from tqdm import tqdm\n",
    "\n",
    "best_loss = float('inf')  # 初始化为正无穷大，确保第一个损失值一定会小于它\n",
    "\n",
    "# 训练模型\n",
    "def train():\n",
    "    model.train()\n",
    "    total_loss = 0 # 用于计算平均损失\n",
    "    num_batches = len(train_loader) # 用于记录训练的batch数目\n",
    "\n",
    "    with tqdm(total=num_batches, desc='Training', unit='batch') as pbar:\n",
    "        for i, data in enumerate(train_loader):\n",
    "            inputs, labels = data\n",
    "            inputs, labels = inputs.to(device), labels.to(device)\n",
    "            optimizer.zero_grad() # 梯度清零\n",
    "            outputs = model(inputs)\n",
    "            loss = criterion(outputs, labels)\n",
    "            loss.backward() # 反向传播\n",
    "            optimizer.step() # 更新参数\n",
    "\n",
    "            total_loss += loss.item()\n",
    "            current_loss = loss.item()\n",
    "\n",
    "            if i % 100 == 0:\n",
    "                # print('Train Step: {}\\tLoss: {:.3f}'.format(i, loss.item()))\n",
    "                avg_loss = total_loss / (i + 1)\n",
    "                pbar.set_postfix({'cur_loss': '{:.3f}'.format(loss), 'avg_loss':'{:.3f}'.format(avg_loss)})\n",
    "                pbar.update(100) # 每处理100个batch更新一次tqdm\n",
    "                # 判断当前损失是否比最佳损失小，如果是则保存模型状态\n",
    "            if current_loss < best_loss:\n",
    "                best_loss = current_loss\n",
    "                torch.save(model.state_dict(), os.path.join(save_path, 'best_model.pth'))  # 保存模型\n",
    "    \n",
    "    print('Best loss:', best_loss)            \n",
    "\n",
    "\n",
    "# 测试模型\n",
    "def test():\n",
    "    model.eval()\n",
    "    correct = 0\n",
    "    total = 0\n",
    "    with torch.no_grad(): # 测试过程中不需要计算梯度\n",
    "        with tqdm(total=len(test_loader), desc=\"Testing\", unit=\"batch\") as pbar:\n",
    "            for data in test_loader:\n",
    "                inputs, labels = data\n",
    "                inputs, labels = inputs.to(device), labels.to(device)\n",
    "                outputs = model(inputs)\n",
    "                _, predicted = torch.max(outputs.data, dim=1)\n",
    "                total += labels.size(0)\n",
    "                # print(predicted.shape, labels.shape)\n",
    "                correct += (predicted == labels).sum().item()\n",
    "                pbar.update(1)# 每处理1个batch更新一次tqdm\n",
    "\n",
    "    print('Accuracy on test set: {:.3f}'.format(correct / total))\n",
    "\n",
    "print('Before training:', end=' ')\n",
    "test()"
   ]
  },
  {
   "cell_type": "code",
   "execution_count": 52,
   "metadata": {},
   "outputs": [
    {
     "name": "stdout",
     "output_type": "stream",
     "text": [
      "epoch 1\n"
     ]
    },
    {
     "name": "stderr",
     "output_type": "stream",
     "text": [
      "Training: 800batch [00:21, 37.61batch/s, cur_loss=1.508, avg_loss=1.529]                      \n"
     ]
    },
    {
     "name": "stdout",
     "output_type": "stream",
     "text": [
      "Best loss: 1.4611512422561646\n"
     ]
    },
    {
     "name": "stderr",
     "output_type": "stream",
     "text": [
      "Testing: 100%|██████████| 188/188 [00:03<00:00, 48.22batch/s]\n"
     ]
    },
    {
     "name": "stdout",
     "output_type": "stream",
     "text": [
      "Accuracy on test set: 0.943\n",
      "epoch 2\n"
     ]
    },
    {
     "name": "stderr",
     "output_type": "stream",
     "text": [
      "Training: 800batch [00:22, 35.44batch/s, cur_loss=1.510, avg_loss=1.527]                      \n"
     ]
    },
    {
     "name": "stdout",
     "output_type": "stream",
     "text": [
      "Best loss: 1.4611507654190063\n"
     ]
    },
    {
     "name": "stderr",
     "output_type": "stream",
     "text": [
      "Testing: 100%|██████████| 188/188 [00:03<00:00, 49.36batch/s]\n"
     ]
    },
    {
     "name": "stdout",
     "output_type": "stream",
     "text": [
      "Accuracy on test set: 0.945\n",
      "epoch 3\n"
     ]
    },
    {
     "name": "stderr",
     "output_type": "stream",
     "text": [
      "Training: 800batch [00:21, 37.10batch/s, cur_loss=1.551, avg_loss=1.527]                      \n"
     ]
    },
    {
     "name": "stdout",
     "output_type": "stream",
     "text": [
      "Best loss: 1.4611507654190063\n"
     ]
    },
    {
     "name": "stderr",
     "output_type": "stream",
     "text": [
      "Testing: 100%|██████████| 188/188 [00:03<00:00, 55.01batch/s]\n"
     ]
    },
    {
     "name": "stdout",
     "output_type": "stream",
     "text": [
      "Accuracy on test set: 0.944\n",
      "epoch 4\n"
     ]
    },
    {
     "name": "stderr",
     "output_type": "stream",
     "text": [
      "Training: 800batch [00:18, 42.57batch/s, cur_loss=1.559, avg_loss=1.527]                      \n"
     ]
    },
    {
     "name": "stdout",
     "output_type": "stream",
     "text": [
      "Best loss: 1.4611519575119019\n"
     ]
    },
    {
     "name": "stderr",
     "output_type": "stream",
     "text": [
      "Testing: 100%|██████████| 188/188 [00:03<00:00, 55.37batch/s]\n"
     ]
    },
    {
     "name": "stdout",
     "output_type": "stream",
     "text": [
      "Accuracy on test set: 0.945\n",
      "epoch 5\n"
     ]
    },
    {
     "name": "stderr",
     "output_type": "stream",
     "text": [
      "Training: 800batch [00:19, 41.12batch/s, cur_loss=1.515, avg_loss=1.529]                      \n"
     ]
    },
    {
     "name": "stdout",
     "output_type": "stream",
     "text": [
      "Best loss: 1.4611510038375854\n"
     ]
    },
    {
     "name": "stderr",
     "output_type": "stream",
     "text": [
      "Testing: 100%|██████████| 188/188 [00:03<00:00, 49.00batch/s]"
     ]
    },
    {
     "name": "stdout",
     "output_type": "stream",
     "text": [
      "Accuracy on test set: 0.944\n"
     ]
    },
    {
     "name": "stderr",
     "output_type": "stream",
     "text": [
      "\n"
     ]
    }
   ],
   "source": [
    "EPOCH = 5\n",
    "# 训练5个epoch\n",
    "for epoch in range(EPOCH):\n",
    "    print('epoch {}'.format(epoch + 1))\n",
    "    train()\n",
    "    test()"
   ]
  },
  {
   "cell_type": "code",
   "execution_count": 37,
   "metadata": {},
   "outputs": [],
   "source": [
    "# 保存最后一次模型\n",
    "\n",
    "torch.save(model.state_dict(), os.path.join(save_path, 'model.pth'))"
   ]
  },
  {
   "cell_type": "code",
   "execution_count": 56,
   "metadata": {},
   "outputs": [
    {
     "data": {
      "image/png": "[encoded data removed]",
      "text/plain": [
       "<Figure size 640x480 with 1 Axes>"
      ]
     },
     "metadata": {},
     "output_type": "display_data"
    },
    {
     "name": "stdout",
     "output_type": "stream",
     "text": [
      "predict: 1\n"
     ]
    }
   ],
   "source": [
    "# 加载模型\n",
    "model = CNN()\n",
    "model.load_state_dict(torch.load(os.path.join(save_path, 'best_model.pth')))\n",
    "model = model.to(device)\n",
    "\n",
    "# 预测\n",
    "def predict(img):\n",
    "    model.eval()\n",
    "    img = img.to(device)\n",
    "    with torch.no_grad():\n",
    "        output = model(img)\n",
    "        # print(output)\n",
    "        _, predicted = torch.max(output.data, dim=1)\n",
    "        return predicted.item()\n",
    "    \n",
    "import random\n",
    "# 随机选取一张图片进行预测\n",
    "index = random.randint(0, len(test_dataset))\n",
    "img = test_dataset[index][0].unsqueeze(0)\n",
    "label = test_dataset[index][1]\n",
    "plt.imshow(img[0][0], cmap='gray')\n",
    "plt.title('label: {}'.format(label))\n",
    "plt.show()\n",
    "print('predict: {}'.format(predict(img)))"
   ]
  },
  {
   "cell_type": "code",
   "execution_count": 60,
   "metadata": {},
   "outputs": [
    {
     "data": {
      "image/png": "[encoded data removed]",
      "text/plain": [
       "<Figure size 640x480 with 1 Axes>"
      ]
     },
     "metadata": {},
     "output_type": "display_data"
    },
    {
     "name": "stderr",
     "output_type": "stream",
     "text": [
      "Testing: 100%|██████████| 188/188 [00:03<00:00, 49.46batch/s]"
     ]
    },
    {
     "name": "stdout",
     "output_type": "stream",
     "text": [
      "Accuracy on test set: 0.946\n"
     ]
    },
    {
     "name": "stderr",
     "output_type": "stream",
     "text": [
      "\n"
     ]
    }
   ],
   "source": [
    "a = torch.randn(1, 10)\n",
    "plt.imshow(a, cmap='gray')\n",
    "plt.show()\n",
    "# print(a)\n",
    "# print(torch.sum(a))\n",
    "# print(torch.max(a, dim=1))\n",
    "test()"
   ]
  },
  {
   "cell_type": "code",
   "execution_count": 63,
   "metadata": {},
   "outputs": [
    {
     "name": "stdout",
     "output_type": "stream",
     "text": [
      "Original shape:  (2502, 3230)\n",
      "torch.Size([1, 28, 28])\n"
     ]
    },
    {
     "data": {
      "image/png": "[encoded data removed]",
      "text/plain": [
       "<Figure size 640x480 with 1 Axes>"
      ]
     },
     "metadata": {},
     "output_type": "display_data"
    },
    {
     "name": "stdout",
     "output_type": "stream",
     "text": [
      "predict: 8\n"
     ]
    }
   ],
   "source": [
    "from PIL import Image\n",
    "\n",
    "img = Image.open('./8.jpg')\n",
    "\n",
    "transform = transforms.Compose([\n",
    "    transforms.Resize((28, 28)),\n",
    "    transforms.Grayscale(),\n",
    "    transforms.ToTensor(),\n",
    "])\n",
    "\n",
    "print(\"Original size: \", img.size)\n",
    "img = transform(img)\n",
    "print(img.shape)\n",
    "plt.title('label: 8')\n",
    "plt.imshow(img[0], cmap='gray')\n",
    "plt.show()\n",
    "\n",
    "print('predict: {}'.format(predict(img.unsqueeze(0))))"
   ]
  },
  {
   "cell_type": "code",
   "execution_count": null,
   "metadata": {},
   "outputs": [],
   "source": []
  }
 ],
 "metadata": {
  "kernelspec": {
   "display_name": "Python 3",
   "language": "python",
   "name": "python3"
  },
  "language_info": {
   "codemirror_mode": {
    "name": "ipython",
    "version": 3
   },
   "file_extension": ".py",
   "mimetype": "text/x-python",
   "name": "python",
   "nbconvert_exporter": "python",
   "pygments_lexer": "ipython3",
   "version": "3.10.6"
  },
  "orig_nbformat": 4
 },
 "nbformat": 4,
 "nbformat_minor": 2
}
